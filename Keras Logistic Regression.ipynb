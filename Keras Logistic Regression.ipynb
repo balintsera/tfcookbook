{
 "cells": [
  {
   "cell_type": "markdown",
   "metadata": {},
   "source": [
    "# Keras Logistic Regression\n",
    "\n",
    "using Keras with Tensorflow to run logistic regression on cancer dataset\n",
    "\n",
    "dataset: ftp://ftp.cs.wisc.edu/math-prog/cpo-dataset/machine-learn/cancer/\n",
    "breast cancer dataset from 1984, details: https://archive.ics.uci.edu/ml/datasets/Breast+Cancer+Wisconsin+%28Prognostic%29\n",
    "\n",
    "after some data discovery i found these features to be corrleated somehow with the recurrence of cancer: 'radius', 'perimeter', 'area', 'concave_points', 'col14', 'col16', 'col17', 'col24', 'col26', 'col27'\n",
    "\n",
    "https://medium.com/@the1ju/simple-logistic-regression-using-keras-249e0cc9a970\n",
    "\n"
   ]
  },
  {
   "cell_type": "code",
   "execution_count": 18,
   "metadata": {},
   "outputs": [],
   "source": [
    "datasetPath = 'datasets/cancer/WPBC/WPBC.csv'\n",
    "_CSV_COLUMNS = [\n",
    "    'radius', 'perimeter', 'area', 'concave_points', 'col14', \n",
    "    'col16', 'col17', 'col24', 'col26', 'col27',\n",
    "]\n",
    "\n",
    "import tensorflow as tf\n",
    "import tempfile\n"
   ]
  },
  {
   "cell_type": "code",
   "execution_count": 16,
   "metadata": {
    "collapsed": true
   },
   "outputs": [],
   "source": [
    "def normalize(X):\n",
    "    mean = np.mean(X)\n",
    "    std = np.std(X)\n",
    "    X = (X - mean)/std\n",
    "    return X\n",
    "\n"
   ]
  },
  {
   "cell_type": "code",
   "execution_count": 3,
   "metadata": {
    "collapsed": true
   },
   "outputs": [],
   "source": [
    "import pandas as pd\n",
    "import numpy as np\n"
   ]
  },
  {
   "cell_type": "code",
   "execution_count": 4,
   "metadata": {},
   "outputs": [
    {
     "data": {
      "text/html": [
       "<div>\n",
       "<style>\n",
       "    .dataframe thead tr:only-child th {\n",
       "        text-align: right;\n",
       "    }\n",
       "\n",
       "    .dataframe thead th {\n",
       "        text-align: left;\n",
       "    }\n",
       "\n",
       "    .dataframe tbody tr th {\n",
       "        vertical-align: top;\n",
       "    }\n",
       "</style>\n",
       "<table border=\"1\" class=\"dataframe\">\n",
       "  <thead>\n",
       "    <tr style=\"text-align: right;\">\n",
       "      <th></th>\n",
       "      <th>ID</th>\n",
       "      <th>outcome</th>\n",
       "      <th>time</th>\n",
       "      <th>radius</th>\n",
       "      <th>texture</th>\n",
       "      <th>perimeter</th>\n",
       "      <th>area</th>\n",
       "      <th>smoothness</th>\n",
       "      <th>compactness</th>\n",
       "      <th>concativity</th>\n",
       "      <th>...</th>\n",
       "      <th>col26</th>\n",
       "      <th>col27</th>\n",
       "      <th>col28</th>\n",
       "      <th>col29</th>\n",
       "      <th>col30</th>\n",
       "      <th>col31</th>\n",
       "      <th>col32</th>\n",
       "      <th>col33</th>\n",
       "      <th>col34</th>\n",
       "      <th>col35</th>\n",
       "    </tr>\n",
       "  </thead>\n",
       "  <tbody>\n",
       "    <tr>\n",
       "      <th>0</th>\n",
       "      <td>119513</td>\n",
       "      <td>N</td>\n",
       "      <td>31</td>\n",
       "      <td>18.02</td>\n",
       "      <td>27.60</td>\n",
       "      <td>117.50</td>\n",
       "      <td>1013.0</td>\n",
       "      <td>0.09489</td>\n",
       "      <td>0.1036</td>\n",
       "      <td>0.1086</td>\n",
       "      <td>...</td>\n",
       "      <td>139.70</td>\n",
       "      <td>1436.0</td>\n",
       "      <td>0.1195</td>\n",
       "      <td>0.1926</td>\n",
       "      <td>0.3140</td>\n",
       "      <td>0.1170</td>\n",
       "      <td>0.2677</td>\n",
       "      <td>0.08113</td>\n",
       "      <td>5.0</td>\n",
       "      <td>5</td>\n",
       "    </tr>\n",
       "    <tr>\n",
       "      <th>1</th>\n",
       "      <td>8423</td>\n",
       "      <td>N</td>\n",
       "      <td>61</td>\n",
       "      <td>17.99</td>\n",
       "      <td>10.38</td>\n",
       "      <td>122.80</td>\n",
       "      <td>1001.0</td>\n",
       "      <td>0.11840</td>\n",
       "      <td>0.2776</td>\n",
       "      <td>0.3001</td>\n",
       "      <td>...</td>\n",
       "      <td>184.60</td>\n",
       "      <td>2019.0</td>\n",
       "      <td>0.1622</td>\n",
       "      <td>0.6656</td>\n",
       "      <td>0.7119</td>\n",
       "      <td>0.2654</td>\n",
       "      <td>0.4601</td>\n",
       "      <td>0.11890</td>\n",
       "      <td>3.0</td>\n",
       "      <td>2</td>\n",
       "    </tr>\n",
       "    <tr>\n",
       "      <th>2</th>\n",
       "      <td>842517</td>\n",
       "      <td>N</td>\n",
       "      <td>116</td>\n",
       "      <td>21.37</td>\n",
       "      <td>17.44</td>\n",
       "      <td>137.50</td>\n",
       "      <td>1373.0</td>\n",
       "      <td>0.08836</td>\n",
       "      <td>0.1189</td>\n",
       "      <td>0.1255</td>\n",
       "      <td>...</td>\n",
       "      <td>159.10</td>\n",
       "      <td>1949.0</td>\n",
       "      <td>0.1188</td>\n",
       "      <td>0.3449</td>\n",
       "      <td>0.3414</td>\n",
       "      <td>0.2032</td>\n",
       "      <td>0.4334</td>\n",
       "      <td>0.09067</td>\n",
       "      <td>2.5</td>\n",
       "      <td>0</td>\n",
       "    </tr>\n",
       "    <tr>\n",
       "      <th>3</th>\n",
       "      <td>843483</td>\n",
       "      <td>N</td>\n",
       "      <td>123</td>\n",
       "      <td>11.42</td>\n",
       "      <td>20.38</td>\n",
       "      <td>77.58</td>\n",
       "      <td>386.1</td>\n",
       "      <td>0.14250</td>\n",
       "      <td>0.2839</td>\n",
       "      <td>0.2414</td>\n",
       "      <td>...</td>\n",
       "      <td>98.87</td>\n",
       "      <td>567.7</td>\n",
       "      <td>0.2098</td>\n",
       "      <td>0.8663</td>\n",
       "      <td>0.6869</td>\n",
       "      <td>0.2575</td>\n",
       "      <td>0.6638</td>\n",
       "      <td>0.17300</td>\n",
       "      <td>2.0</td>\n",
       "      <td>0</td>\n",
       "    </tr>\n",
       "    <tr>\n",
       "      <th>4</th>\n",
       "      <td>843584</td>\n",
       "      <td>R</td>\n",
       "      <td>27</td>\n",
       "      <td>20.29</td>\n",
       "      <td>14.34</td>\n",
       "      <td>135.10</td>\n",
       "      <td>1297.0</td>\n",
       "      <td>0.10030</td>\n",
       "      <td>0.1328</td>\n",
       "      <td>0.1980</td>\n",
       "      <td>...</td>\n",
       "      <td>152.20</td>\n",
       "      <td>1575.0</td>\n",
       "      <td>0.1374</td>\n",
       "      <td>0.2050</td>\n",
       "      <td>0.4000</td>\n",
       "      <td>0.1625</td>\n",
       "      <td>0.2364</td>\n",
       "      <td>0.07678</td>\n",
       "      <td>3.5</td>\n",
       "      <td>0</td>\n",
       "    </tr>\n",
       "  </tbody>\n",
       "</table>\n",
       "<p>5 rows × 35 columns</p>\n",
       "</div>"
      ],
      "text/plain": [
       "       ID outcome  time  radius  texture  perimeter    area  smoothness  \\\n",
       "0  119513       N    31   18.02    27.60     117.50  1013.0     0.09489   \n",
       "1    8423       N    61   17.99    10.38     122.80  1001.0     0.11840   \n",
       "2  842517       N   116   21.37    17.44     137.50  1373.0     0.08836   \n",
       "3  843483       N   123   11.42    20.38      77.58   386.1     0.14250   \n",
       "4  843584       R    27   20.29    14.34     135.10  1297.0     0.10030   \n",
       "\n",
       "   compactness  concativity  ...     col26   col27   col28   col29   col30  \\\n",
       "0       0.1036       0.1086  ...    139.70  1436.0  0.1195  0.1926  0.3140   \n",
       "1       0.2776       0.3001  ...    184.60  2019.0  0.1622  0.6656  0.7119   \n",
       "2       0.1189       0.1255  ...    159.10  1949.0  0.1188  0.3449  0.3414   \n",
       "3       0.2839       0.2414  ...     98.87   567.7  0.2098  0.8663  0.6869   \n",
       "4       0.1328       0.1980  ...    152.20  1575.0  0.1374  0.2050  0.4000   \n",
       "\n",
       "    col31   col32    col33  col34  col35  \n",
       "0  0.1170  0.2677  0.08113    5.0      5  \n",
       "1  0.2654  0.4601  0.11890    3.0      2  \n",
       "2  0.2032  0.4334  0.09067    2.5      0  \n",
       "3  0.2575  0.6638  0.17300    2.0      0  \n",
       "4  0.1625  0.2364  0.07678    3.5      0  \n",
       "\n",
       "[5 rows x 35 columns]"
      ]
     },
     "execution_count": 4,
     "metadata": {},
     "output_type": "execute_result"
    }
   ],
   "source": [
    "cancers = pd.read_csv(datasetPath)\n",
    "cancers.head()"
   ]
  },
  {
   "cell_type": "markdown",
   "metadata": {},
   "source": [
    "## labels\n",
    "create two category column from outcome 0/1 column"
   ]
  },
  {
   "cell_type": "code",
   "execution_count": 56,
   "metadata": {},
   "outputs": [
    {
     "data": {
      "text/html": [
       "<div>\n",
       "<style>\n",
       "    .dataframe thead tr:only-child th {\n",
       "        text-align: right;\n",
       "    }\n",
       "\n",
       "    .dataframe thead th {\n",
       "        text-align: left;\n",
       "    }\n",
       "\n",
       "    .dataframe tbody tr th {\n",
       "        vertical-align: top;\n",
       "    }\n",
       "</style>\n",
       "<table border=\"1\" class=\"dataframe\">\n",
       "  <thead>\n",
       "    <tr style=\"text-align: right;\">\n",
       "      <th></th>\n",
       "      <th>outcome_N</th>\n",
       "      <th>outcome_R</th>\n",
       "    </tr>\n",
       "  </thead>\n",
       "  <tbody>\n",
       "    <tr>\n",
       "      <th>0</th>\n",
       "      <td>1</td>\n",
       "      <td>0</td>\n",
       "    </tr>\n",
       "    <tr>\n",
       "      <th>1</th>\n",
       "      <td>1</td>\n",
       "      <td>0</td>\n",
       "    </tr>\n",
       "    <tr>\n",
       "      <th>2</th>\n",
       "      <td>1</td>\n",
       "      <td>0</td>\n",
       "    </tr>\n",
       "    <tr>\n",
       "      <th>3</th>\n",
       "      <td>1</td>\n",
       "      <td>0</td>\n",
       "    </tr>\n",
       "    <tr>\n",
       "      <th>4</th>\n",
       "      <td>0</td>\n",
       "      <td>1</td>\n",
       "    </tr>\n",
       "  </tbody>\n",
       "</table>\n",
       "</div>"
      ],
      "text/plain": [
       "   outcome_N  outcome_R\n",
       "0          1          0\n",
       "1          1          0\n",
       "2          1          0\n",
       "3          1          0\n",
       "4          0          1"
      ]
     },
     "execution_count": 56,
     "metadata": {},
     "output_type": "execute_result"
    }
   ],
   "source": [
    "cancers['outcome'] = cancers['outcome'].astype('category')\n",
    "y_data = {'outcome_R': np.where(cancers['outcome'] == 'R', 1, 0), \n",
    "          'outcome_N': np.where(cancers['outcome'] == 'N', 1, 0) }\n",
    "y = pd.DataFrame(data=y_data)\n",
    "y.head()"
   ]
  },
  {
   "cell_type": "code",
   "execution_count": null,
   "metadata": {},
   "outputs": [],
   "source": []
  },
  {
   "cell_type": "code",
   "execution_count": 57,
   "metadata": {},
   "outputs": [],
   "source": [
    "X, Y = normalize(cancers[_CSV_COLUMNS]), y"
   ]
  },
  {
   "cell_type": "code",
   "execution_count": 58,
   "metadata": {},
   "outputs": [
    {
     "data": {
      "text/html": [
       "<div>\n",
       "<style>\n",
       "    .dataframe thead tr:only-child th {\n",
       "        text-align: right;\n",
       "    }\n",
       "\n",
       "    .dataframe thead th {\n",
       "        text-align: left;\n",
       "    }\n",
       "\n",
       "    .dataframe tbody tr th {\n",
       "        vertical-align: top;\n",
       "    }\n",
       "</style>\n",
       "<table border=\"1\" class=\"dataframe\">\n",
       "  <thead>\n",
       "    <tr style=\"text-align: right;\">\n",
       "      <th></th>\n",
       "      <th>radius</th>\n",
       "      <th>perimeter</th>\n",
       "      <th>area</th>\n",
       "      <th>concave_points</th>\n",
       "      <th>col14</th>\n",
       "      <th>col16</th>\n",
       "      <th>col17</th>\n",
       "      <th>col24</th>\n",
       "      <th>col26</th>\n",
       "      <th>col27</th>\n",
       "    </tr>\n",
       "  </thead>\n",
       "  <tbody>\n",
       "    <tr>\n",
       "      <th>0</th>\n",
       "      <td>0.192688</td>\n",
       "      <td>0.123934</td>\n",
       "      <td>0.122300</td>\n",
       "      <td>-0.480176</td>\n",
       "      <td>0.069679</td>\n",
       "      <td>-0.129488</td>\n",
       "      <td>0.027606</td>\n",
       "      <td>0.143701</td>\n",
       "      <td>-0.022477</td>\n",
       "      <td>0.053105</td>\n",
       "    </tr>\n",
       "    <tr>\n",
       "      <th>1</th>\n",
       "      <td>0.183175</td>\n",
       "      <td>0.372418</td>\n",
       "      <td>0.088138</td>\n",
       "      <td>1.785222</td>\n",
       "      <td>1.589424</td>\n",
       "      <td>1.980100</td>\n",
       "      <td>1.737769</td>\n",
       "      <td>1.029751</td>\n",
       "      <td>1.535510</td>\n",
       "      <td>1.050496</td>\n",
       "    </tr>\n",
       "    <tr>\n",
       "      <th>2</th>\n",
       "      <td>1.254939</td>\n",
       "      <td>1.061610</td>\n",
       "      <td>1.147186</td>\n",
       "      <td>-0.147247</td>\n",
       "      <td>-0.058018</td>\n",
       "      <td>-0.149592</td>\n",
       "      <td>0.249081</td>\n",
       "      <td>0.916336</td>\n",
       "      <td>0.650684</td>\n",
       "      <td>0.930741</td>\n",
       "    </tr>\n",
       "    <tr>\n",
       "      <th>3</th>\n",
       "      <td>-1.900104</td>\n",
       "      <td>-1.747667</td>\n",
       "      <td>-1.662423</td>\n",
       "      <td>0.545246</td>\n",
       "      <td>-0.348324</td>\n",
       "      <td>-0.370283</td>\n",
       "      <td>-0.898410</td>\n",
       "      <td>-1.444100</td>\n",
       "      <td>-1.439240</td>\n",
       "      <td>-1.432374</td>\n",
       "    </tr>\n",
       "    <tr>\n",
       "      <th>4</th>\n",
       "      <td>0.912482</td>\n",
       "      <td>0.949089</td>\n",
       "      <td>0.930821</td>\n",
       "      <td>0.518612</td>\n",
       "      <td>0.497380</td>\n",
       "      <td>0.540353</td>\n",
       "      <td>0.505867</td>\n",
       "      <td>0.358716</td>\n",
       "      <td>0.411261</td>\n",
       "      <td>0.290905</td>\n",
       "    </tr>\n",
       "  </tbody>\n",
       "</table>\n",
       "</div>"
      ],
      "text/plain": [
       "     radius  perimeter      area  concave_points     col14     col16  \\\n",
       "0  0.192688   0.123934  0.122300       -0.480176  0.069679 -0.129488   \n",
       "1  0.183175   0.372418  0.088138        1.785222  1.589424  1.980100   \n",
       "2  1.254939   1.061610  1.147186       -0.147247 -0.058018 -0.149592   \n",
       "3 -1.900104  -1.747667 -1.662423        0.545246 -0.348324 -0.370283   \n",
       "4  0.912482   0.949089  0.930821        0.518612  0.497380  0.540353   \n",
       "\n",
       "      col17     col24     col26     col27  \n",
       "0  0.027606  0.143701 -0.022477  0.053105  \n",
       "1  1.737769  1.029751  1.535510  1.050496  \n",
       "2  0.249081  0.916336  0.650684  0.930741  \n",
       "3 -0.898410 -1.444100 -1.439240 -1.432374  \n",
       "4  0.505867  0.358716  0.411261  0.290905  "
      ]
     },
     "execution_count": 58,
     "metadata": {},
     "output_type": "execute_result"
    }
   ],
   "source": [
    "X.head()"
   ]
  },
  {
   "cell_type": "code",
   "execution_count": 59,
   "metadata": {},
   "outputs": [
    {
     "data": {
      "text/html": [
       "<div>\n",
       "<style>\n",
       "    .dataframe thead tr:only-child th {\n",
       "        text-align: right;\n",
       "    }\n",
       "\n",
       "    .dataframe thead th {\n",
       "        text-align: left;\n",
       "    }\n",
       "\n",
       "    .dataframe tbody tr th {\n",
       "        vertical-align: top;\n",
       "    }\n",
       "</style>\n",
       "<table border=\"1\" class=\"dataframe\">\n",
       "  <thead>\n",
       "    <tr style=\"text-align: right;\">\n",
       "      <th></th>\n",
       "      <th>outcome_N</th>\n",
       "      <th>outcome_R</th>\n",
       "    </tr>\n",
       "  </thead>\n",
       "  <tbody>\n",
       "    <tr>\n",
       "      <th>0</th>\n",
       "      <td>1</td>\n",
       "      <td>0</td>\n",
       "    </tr>\n",
       "    <tr>\n",
       "      <th>1</th>\n",
       "      <td>1</td>\n",
       "      <td>0</td>\n",
       "    </tr>\n",
       "    <tr>\n",
       "      <th>2</th>\n",
       "      <td>1</td>\n",
       "      <td>0</td>\n",
       "    </tr>\n",
       "    <tr>\n",
       "      <th>3</th>\n",
       "      <td>1</td>\n",
       "      <td>0</td>\n",
       "    </tr>\n",
       "    <tr>\n",
       "      <th>4</th>\n",
       "      <td>0</td>\n",
       "      <td>1</td>\n",
       "    </tr>\n",
       "  </tbody>\n",
       "</table>\n",
       "</div>"
      ],
      "text/plain": [
       "   outcome_N  outcome_R\n",
       "0          1          0\n",
       "1          1          0\n",
       "2          1          0\n",
       "3          1          0\n",
       "4          0          1"
      ]
     },
     "execution_count": 59,
     "metadata": {},
     "output_type": "execute_result"
    }
   ],
   "source": [
    "Y.head()"
   ]
  },
  {
   "cell_type": "markdown",
   "metadata": {},
   "source": [
    "## Train-test division"
   ]
  },
  {
   "cell_type": "code",
   "execution_count": 60,
   "metadata": {},
   "outputs": [],
   "source": [
    "from sklearn.model_selection import train_test_split\n",
    "seed = 7\n",
    "\n",
    "X_train, X_test, y_train, y_test = train_test_split(X, Y, test_size=0.2, random_state=seed)\n"
   ]
  },
  {
   "cell_type": "code",
   "execution_count": 61,
   "metadata": {},
   "outputs": [
    {
     "data": {
      "text/plain": [
       "((158, 10), (40, 10))"
      ]
     },
     "execution_count": 61,
     "metadata": {},
     "output_type": "execute_result"
    }
   ],
   "source": [
    "X_train.shape, X_test.shape"
   ]
  },
  {
   "cell_type": "code",
   "execution_count": 35,
   "metadata": {},
   "outputs": [
    {
     "name": "stderr",
     "output_type": "stream",
     "text": [
      "Using TensorFlow backend.\n"
     ]
    }
   ],
   "source": [
    "from keras.models import Sequential"
   ]
  },
  {
   "cell_type": "code",
   "execution_count": 149,
   "metadata": {},
   "outputs": [],
   "source": [
    "from keras.layers import Dense, Activation\n",
    "output_dim = nb_classes = 2\n",
    "model = Sequential()\n",
    "model.add(Dense(len(_CSV_COLUMNS), input_dim=len(_CSV_COLUMNS), activation='softmax'))\n",
    "model.add(Dense(len(_CSV_COLUMNS) * 2, activation='softmax'))\n",
    "model.add(Dense(len(_CSV_COLUMNS) - 5, activation='softmax'))\n",
    "model.add(Dense(output_dim, activation='softmax'))"
   ]
  },
  {
   "cell_type": "code",
   "execution_count": 143,
   "metadata": {},
   "outputs": [
    {
     "data": {
      "text/plain": [
       "10"
      ]
     },
     "execution_count": 143,
     "metadata": {},
     "output_type": "execute_result"
    }
   ],
   "source": [
    "len(_CSV_COLUMNS)"
   ]
  },
  {
   "cell_type": "markdown",
   "metadata": {},
   "source": [
    "## Compile the model"
   ]
  },
  {
   "cell_type": "code",
   "execution_count": 167,
   "metadata": {},
   "outputs": [
    {
     "name": "stdout",
     "output_type": "stream",
     "text": [
      "Test score:  0.5104709148406983\n",
      "Test accuracy:  0.85\n"
     ]
    }
   ],
   "source": [
    "model.compile(optimizer='RMSprop',\n",
    "             loss='binary_crossentropy',\n",
    "              metrics=['categorical_accuracy'])\n",
    "history = model.fit(X_train, y_train, \n",
    "                    batch_size=150,\n",
    "                    epochs=40,\n",
    "                    verbose=0,\n",
    "                    validation_data=(X_test, y_test))\n",
    "score = model.evaluate(X_test, y_test, verbose=0)\n",
    "print('Test score: ', score[0])\n",
    "print('Test accuracy: ', score[1])\n"
   ]
  },
  {
   "cell_type": "markdown",
   "metadata": {},
   "source": [
    "## hyper parameter tuning\n",
    "\n",
    "### epochs\n",
    "number of epochs does not affect the accuracy above 200, it stays 0.85. \n",
    "\n",
    "### activation\n",
    "softmax: 0.85, \n",
    "\n",
    "relu: .82, \n",
    "\n",
    "sigmoid: 0.85\n",
    "\n",
    "tanh: 0.825\n",
    "\n",
    "### loss\n",
    "categorical_crossentropy, mean_squared_error, binary_crossentropy: no difference\n",
    "\n",
    "### optimizer\n",
    "sgd: 0.85\n",
    "\n",
    "adam: 0.85\n",
    "\n",
    "adamax: 0.85\n",
    "\n",
    "RMSprop: 0.85 (but this makes 40 epochs just enough to get the same result)\n",
    "\n",
    "\n",
    "### batch size\n",
    "\n",
    "128: .85\n",
    "\n",
    "5: 0.775\n",
    "\n",
    "100: 0.775\n",
    "\n"
   ]
  },
  {
   "cell_type": "code",
   "execution_count": null,
   "metadata": {
    "collapsed": true
   },
   "outputs": [],
   "source": []
  }
 ],
 "metadata": {
  "kernelspec": {
   "display_name": "Python 3",
   "language": "python",
   "name": "python3"
  },
  "language_info": {
   "codemirror_mode": {
    "name": "ipython",
    "version": 3
   },
   "file_extension": ".py",
   "mimetype": "text/x-python",
   "name": "python",
   "nbconvert_exporter": "python",
   "pygments_lexer": "ipython3",
   "version": "3.6.3"
  }
 },
 "nbformat": 4,
 "nbformat_minor": 2
}
